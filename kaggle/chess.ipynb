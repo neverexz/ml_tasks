{
  "cells": [
    {
      "cell_type": "code",
      "execution_count": 10,
      "id": "xJbP685W4jt7",
      "metadata": {
        "colab": {
          "base_uri": "https://localhost:8080/"
        },
        "id": "xJbP685W4jt7",
        "outputId": "cdc62968-46fc-4659-e55e-3875a636433d"
      },
      "outputs": [
        {
          "name": "stdout",
          "output_type": "stream",
          "text": [
            "Requirement already satisfied: chess in /usr/local/lib/python3.12/dist-packages (1.11.2)\n"
          ]
        }
      ],
      "source": [
        "!pip install chess"
      ]
    },
    {
      "cell_type": "code",
      "execution_count": 11,
      "id": "6c8babf1",
      "metadata": {
        "id": "6c8babf1"
      },
      "outputs": [],
      "source": [
        "import pandas as pd\n",
        "import numpy as np\n",
        "from tensorflow.keras import layers, models, Input\n",
        "import tensorflow as tf"
      ]
    },
    {
      "cell_type": "code",
      "execution_count": 12,
      "id": "7HDI9J3M33Y3",
      "metadata": {
        "colab": {
          "base_uri": "https://localhost:8080/"
        },
        "id": "7HDI9J3M33Y3",
        "outputId": "171d3ed8-f80c-452a-89e3-4dc1f52dd159"
      },
      "outputs": [
        {
          "name": "stdout",
          "output_type": "stream",
          "text": [
            "TensorFlow version: 2.19.0\n",
            "Num GPUs Available: 1\n"
          ]
        }
      ],
      "source": [
        "print(\"TensorFlow version:\", tf.__version__)\n",
        "print(\"Num GPUs Available:\", len(tf.config.list_physical_devices('GPU')))\n"
      ]
    },
    {
      "cell_type": "code",
      "execution_count": 13,
      "id": "f453d74a",
      "metadata": {
        "colab": {
          "base_uri": "https://localhost:8080/",
          "height": 206
        },
        "id": "f453d74a",
        "outputId": "3c1ae41f-d555-482c-8700-47c09d786a70"
      },
      "outputs": [
        {
          "data": {
            "application/vnd.google.colaboratory.intrinsic+json": {
              "type": "dataframe",
              "variable_name": "data"
            },
            "text/html": [
              "\n",
              "  <div id=\"df-d9d46de1-1ec0-4a7e-acb4-4e4d8371fae3\" class=\"colab-df-container\">\n",
              "    <div>\n",
              "<style scoped>\n",
              "    .dataframe tbody tr th:only-of-type {\n",
              "        vertical-align: middle;\n",
              "    }\n",
              "\n",
              "    .dataframe tbody tr th {\n",
              "        vertical-align: top;\n",
              "    }\n",
              "\n",
              "    .dataframe thead th {\n",
              "        text-align: right;\n",
              "    }\n",
              "</style>\n",
              "<table border=\"1\" class=\"dataframe\">\n",
              "  <thead>\n",
              "    <tr style=\"text-align: right;\">\n",
              "      <th></th>\n",
              "      <th>fen</th>\n",
              "      <th>move</th>\n",
              "    </tr>\n",
              "  </thead>\n",
              "  <tbody>\n",
              "    <tr>\n",
              "      <th>0</th>\n",
              "      <td>7k/5p1p/p2p1Pr1/1p4pQ/8/P1P5/2pr3P/2R2K2 w - -...</td>\n",
              "      <td>h5f3</td>\n",
              "    </tr>\n",
              "    <tr>\n",
              "      <th>1</th>\n",
              "      <td>5r2/2p3k1/1p3pb1/p1pPr2p/2P1PRP1/3B1R2/PP4K1/8...</td>\n",
              "      <td>g4h5</td>\n",
              "    </tr>\n",
              "    <tr>\n",
              "      <th>2</th>\n",
              "      <td>r2r2k1/p3bpp1/q2Bp2p/2pn4/2b1N1Q1/8/PPP2PPP/3R...</td>\n",
              "      <td>d6e7</td>\n",
              "    </tr>\n",
              "    <tr>\n",
              "      <th>3</th>\n",
              "      <td>8/8/8/7K/1k6/8/6P1/8 w - - 0 1</td>\n",
              "      <td>g2g4</td>\n",
              "    </tr>\n",
              "    <tr>\n",
              "      <th>4</th>\n",
              "      <td>rnbqkb1r/pp3ppp/5n2/3p4/2pP4/3B1N2/PPP2PPP/RNB...</td>\n",
              "      <td>f1e1</td>\n",
              "    </tr>\n",
              "  </tbody>\n",
              "</table>\n",
              "</div>\n",
              "    <div class=\"colab-df-buttons\">\n",
              "\n",
              "  <div class=\"colab-df-container\">\n",
              "    <button class=\"colab-df-convert\" onclick=\"convertToInteractive('df-d9d46de1-1ec0-4a7e-acb4-4e4d8371fae3')\"\n",
              "            title=\"Convert this dataframe to an interactive table.\"\n",
              "            style=\"display:none;\">\n",
              "\n",
              "  <svg xmlns=\"http://www.w3.org/2000/svg\" height=\"24px\" viewBox=\"0 -960 960 960\">\n",
              "    <path d=\"M120-120v-720h720v720H120Zm60-500h600v-160H180v160Zm220 220h160v-160H400v160Zm0 220h160v-160H400v160ZM180-400h160v-160H180v160Zm440 0h160v-160H620v160ZM180-180h160v-160H180v160Zm440 0h160v-160H620v160Z\"/>\n",
              "  </svg>\n",
              "    </button>\n",
              "\n",
              "  <style>\n",
              "    .colab-df-container {\n",
              "      display:flex;\n",
              "      gap: 12px;\n",
              "    }\n",
              "\n",
              "    .colab-df-convert {\n",
              "      background-color: #E8F0FE;\n",
              "      border: none;\n",
              "      border-radius: 50%;\n",
              "      cursor: pointer;\n",
              "      display: none;\n",
              "      fill: #1967D2;\n",
              "      height: 32px;\n",
              "      padding: 0 0 0 0;\n",
              "      width: 32px;\n",
              "    }\n",
              "\n",
              "    .colab-df-convert:hover {\n",
              "      background-color: #E2EBFA;\n",
              "      box-shadow: 0px 1px 2px rgba(60, 64, 67, 0.3), 0px 1px 3px 1px rgba(60, 64, 67, 0.15);\n",
              "      fill: #174EA6;\n",
              "    }\n",
              "\n",
              "    .colab-df-buttons div {\n",
              "      margin-bottom: 4px;\n",
              "    }\n",
              "\n",
              "    [theme=dark] .colab-df-convert {\n",
              "      background-color: #3B4455;\n",
              "      fill: #D2E3FC;\n",
              "    }\n",
              "\n",
              "    [theme=dark] .colab-df-convert:hover {\n",
              "      background-color: #434B5C;\n",
              "      box-shadow: 0px 1px 3px 1px rgba(0, 0, 0, 0.15);\n",
              "      filter: drop-shadow(0px 1px 2px rgba(0, 0, 0, 0.3));\n",
              "      fill: #FFFFFF;\n",
              "    }\n",
              "  </style>\n",
              "\n",
              "    <script>\n",
              "      const buttonEl =\n",
              "        document.querySelector('#df-d9d46de1-1ec0-4a7e-acb4-4e4d8371fae3 button.colab-df-convert');\n",
              "      buttonEl.style.display =\n",
              "        google.colab.kernel.accessAllowed ? 'block' : 'none';\n",
              "\n",
              "      async function convertToInteractive(key) {\n",
              "        const element = document.querySelector('#df-d9d46de1-1ec0-4a7e-acb4-4e4d8371fae3');\n",
              "        const dataTable =\n",
              "          await google.colab.kernel.invokeFunction('convertToInteractive',\n",
              "                                                    [key], {});\n",
              "        if (!dataTable) return;\n",
              "\n",
              "        const docLinkHtml = 'Like what you see? Visit the ' +\n",
              "          '<a target=\"_blank\" href=https://colab.research.google.com/notebooks/data_table.ipynb>data table notebook</a>'\n",
              "          + ' to learn more about interactive tables.';\n",
              "        element.innerHTML = '';\n",
              "        dataTable['output_type'] = 'display_data';\n",
              "        await google.colab.output.renderOutput(dataTable, element);\n",
              "        const docLink = document.createElement('div');\n",
              "        docLink.innerHTML = docLinkHtml;\n",
              "        element.appendChild(docLink);\n",
              "      }\n",
              "    </script>\n",
              "  </div>\n",
              "\n",
              "\n",
              "    <div id=\"df-d92c1aae-1b83-405a-9dcc-58fb9152b914\">\n",
              "      <button class=\"colab-df-quickchart\" onclick=\"quickchart('df-d92c1aae-1b83-405a-9dcc-58fb9152b914')\"\n",
              "                title=\"Suggest charts\"\n",
              "                style=\"display:none;\">\n",
              "\n",
              "<svg xmlns=\"http://www.w3.org/2000/svg\" height=\"24px\"viewBox=\"0 0 24 24\"\n",
              "     width=\"24px\">\n",
              "    <g>\n",
              "        <path d=\"M19 3H5c-1.1 0-2 .9-2 2v14c0 1.1.9 2 2 2h14c1.1 0 2-.9 2-2V5c0-1.1-.9-2-2-2zM9 17H7v-7h2v7zm4 0h-2V7h2v10zm4 0h-2v-4h2v4z\"/>\n",
              "    </g>\n",
              "</svg>\n",
              "      </button>\n",
              "\n",
              "<style>\n",
              "  .colab-df-quickchart {\n",
              "      --bg-color: #E8F0FE;\n",
              "      --fill-color: #1967D2;\n",
              "      --hover-bg-color: #E2EBFA;\n",
              "      --hover-fill-color: #174EA6;\n",
              "      --disabled-fill-color: #AAA;\n",
              "      --disabled-bg-color: #DDD;\n",
              "  }\n",
              "\n",
              "  [theme=dark] .colab-df-quickchart {\n",
              "      --bg-color: #3B4455;\n",
              "      --fill-color: #D2E3FC;\n",
              "      --hover-bg-color: #434B5C;\n",
              "      --hover-fill-color: #FFFFFF;\n",
              "      --disabled-bg-color: #3B4455;\n",
              "      --disabled-fill-color: #666;\n",
              "  }\n",
              "\n",
              "  .colab-df-quickchart {\n",
              "    background-color: var(--bg-color);\n",
              "    border: none;\n",
              "    border-radius: 50%;\n",
              "    cursor: pointer;\n",
              "    display: none;\n",
              "    fill: var(--fill-color);\n",
              "    height: 32px;\n",
              "    padding: 0;\n",
              "    width: 32px;\n",
              "  }\n",
              "\n",
              "  .colab-df-quickchart:hover {\n",
              "    background-color: var(--hover-bg-color);\n",
              "    box-shadow: 0 1px 2px rgba(60, 64, 67, 0.3), 0 1px 3px 1px rgba(60, 64, 67, 0.15);\n",
              "    fill: var(--button-hover-fill-color);\n",
              "  }\n",
              "\n",
              "  .colab-df-quickchart-complete:disabled,\n",
              "  .colab-df-quickchart-complete:disabled:hover {\n",
              "    background-color: var(--disabled-bg-color);\n",
              "    fill: var(--disabled-fill-color);\n",
              "    box-shadow: none;\n",
              "  }\n",
              "\n",
              "  .colab-df-spinner {\n",
              "    border: 2px solid var(--fill-color);\n",
              "    border-color: transparent;\n",
              "    border-bottom-color: var(--fill-color);\n",
              "    animation:\n",
              "      spin 1s steps(1) infinite;\n",
              "  }\n",
              "\n",
              "  @keyframes spin {\n",
              "    0% {\n",
              "      border-color: transparent;\n",
              "      border-bottom-color: var(--fill-color);\n",
              "      border-left-color: var(--fill-color);\n",
              "    }\n",
              "    20% {\n",
              "      border-color: transparent;\n",
              "      border-left-color: var(--fill-color);\n",
              "      border-top-color: var(--fill-color);\n",
              "    }\n",
              "    30% {\n",
              "      border-color: transparent;\n",
              "      border-left-color: var(--fill-color);\n",
              "      border-top-color: var(--fill-color);\n",
              "      border-right-color: var(--fill-color);\n",
              "    }\n",
              "    40% {\n",
              "      border-color: transparent;\n",
              "      border-right-color: var(--fill-color);\n",
              "      border-top-color: var(--fill-color);\n",
              "    }\n",
              "    60% {\n",
              "      border-color: transparent;\n",
              "      border-right-color: var(--fill-color);\n",
              "    }\n",
              "    80% {\n",
              "      border-color: transparent;\n",
              "      border-right-color: var(--fill-color);\n",
              "      border-bottom-color: var(--fill-color);\n",
              "    }\n",
              "    90% {\n",
              "      border-color: transparent;\n",
              "      border-bottom-color: var(--fill-color);\n",
              "    }\n",
              "  }\n",
              "</style>\n",
              "\n",
              "      <script>\n",
              "        async function quickchart(key) {\n",
              "          const quickchartButtonEl =\n",
              "            document.querySelector('#' + key + ' button');\n",
              "          quickchartButtonEl.disabled = true;  // To prevent multiple clicks.\n",
              "          quickchartButtonEl.classList.add('colab-df-spinner');\n",
              "          try {\n",
              "            const charts = await google.colab.kernel.invokeFunction(\n",
              "                'suggestCharts', [key], {});\n",
              "          } catch (error) {\n",
              "            console.error('Error during call to suggestCharts:', error);\n",
              "          }\n",
              "          quickchartButtonEl.classList.remove('colab-df-spinner');\n",
              "          quickchartButtonEl.classList.add('colab-df-quickchart-complete');\n",
              "        }\n",
              "        (() => {\n",
              "          let quickchartButtonEl =\n",
              "            document.querySelector('#df-d92c1aae-1b83-405a-9dcc-58fb9152b914 button');\n",
              "          quickchartButtonEl.style.display =\n",
              "            google.colab.kernel.accessAllowed ? 'block' : 'none';\n",
              "        })();\n",
              "      </script>\n",
              "    </div>\n",
              "\n",
              "    </div>\n",
              "  </div>\n"
            ],
            "text/plain": [
              "                                                 fen  move\n",
              "0  7k/5p1p/p2p1Pr1/1p4pQ/8/P1P5/2pr3P/2R2K2 w - -...  h5f3\n",
              "1  5r2/2p3k1/1p3pb1/p1pPr2p/2P1PRP1/3B1R2/PP4K1/8...  g4h5\n",
              "2  r2r2k1/p3bpp1/q2Bp2p/2pn4/2b1N1Q1/8/PPP2PPP/3R...  d6e7\n",
              "3                     8/8/8/7K/1k6/8/6P1/8 w - - 0 1  g2g4\n",
              "4  rnbqkb1r/pp3ppp/5n2/3p4/2pP4/3B1N2/PPP2PPP/RNB...  f1e1"
            ]
          },
          "execution_count": 13,
          "metadata": {},
          "output_type": "execute_result"
        }
      ],
      "source": [
        "data = pd.read_csv(\"fens_training_set.csv\")\n",
        "data.head()"
      ]
    },
    {
      "cell_type": "code",
      "execution_count": 14,
      "id": "f6065fc6",
      "metadata": {
        "colab": {
          "base_uri": "https://localhost:8080/"
        },
        "id": "f6065fc6",
        "outputId": "fafc786a-6d3b-4077-bd43-179de151a3d1"
      },
      "outputs": [
        {
          "name": "stdout",
          "output_type": "stream",
          "text": [
            "<class 'pandas.core.frame.DataFrame'>\n",
            "RangeIndex: 268550 entries, 0 to 268549\n",
            "Data columns (total 2 columns):\n",
            " #   Column  Non-Null Count   Dtype \n",
            "---  ------  --------------   ----- \n",
            " 0   fen     268550 non-null  object\n",
            " 1   move    268550 non-null  object\n",
            "dtypes: object(2)\n",
            "memory usage: 4.1+ MB\n"
          ]
        }
      ],
      "source": [
        "data.info()"
      ]
    },
    {
      "cell_type": "code",
      "execution_count": 15,
      "id": "40133874",
      "metadata": {
        "colab": {
          "base_uri": "https://localhost:8080/"
        },
        "id": "40133874",
        "outputId": "26791cbc-2665-4932-95e1-79ba06dd77f3"
      },
      "outputs": [
        {
          "name": "stdout",
          "output_type": "stream",
          "text": [
            "5r2/2p3k1/1p3pb1/p1pPr2p/2P1PRP1/3B1R2/PP4K1/8 w - - 0 1\n",
            "h5f3\n"
          ]
        }
      ],
      "source": [
        "print(data.loc[1, 'fen'])\n",
        "print(data.loc[0, 'move'])"
      ]
    },
    {
      "cell_type": "code",
      "execution_count": 16,
      "id": "3c331b64",
      "metadata": {
        "colab": {
          "base_uri": "https://localhost:8080/"
        },
        "id": "3c331b64",
        "outputId": "f69d7f4c-1754-4312-f8db-f23fee8a8fca"
      },
      "outputs": [
        {
          "name": "stdout",
          "output_type": "stream",
          "text": [
            ". . . . . r . .\n",
            ". . p . . . k .\n",
            ". p . . . p b .\n",
            "p . p P r . . p\n",
            ". . P . P R P .\n",
            ". . . B . R . .\n",
            "P P . . . . K .\n",
            ". . . . . . . .\n"
          ]
        }
      ],
      "source": [
        "import chess\n",
        "\n",
        "board = chess.Board('5r2/2p3k1/1p3pb1/p1pPr2p/2P1PRP1/3B1R2/PP4K1/8 w - - 0 1')\n",
        "print(board)\n"
      ]
    },
    {
      "cell_type": "code",
      "execution_count": 17,
      "id": "12b33a05",
      "metadata": {
        "colab": {
          "base_uri": "https://localhost:8080/"
        },
        "id": "12b33a05",
        "outputId": "d7f42968-cfda-409f-e7cb-0b34b9fbfee1"
      },
      "outputs": [
        {
          "data": {
            "text/plain": [
              "{61: Piece.from_symbol('r'),\n",
              " 54: Piece.from_symbol('k'),\n",
              " 50: Piece.from_symbol('p'),\n",
              " 46: Piece.from_symbol('b'),\n",
              " 45: Piece.from_symbol('p'),\n",
              " 41: Piece.from_symbol('p'),\n",
              " 39: Piece.from_symbol('p'),\n",
              " 36: Piece.from_symbol('r'),\n",
              " 35: Piece.from_symbol('P'),\n",
              " 34: Piece.from_symbol('p'),\n",
              " 32: Piece.from_symbol('p'),\n",
              " 30: Piece.from_symbol('P'),\n",
              " 29: Piece.from_symbol('R'),\n",
              " 28: Piece.from_symbol('P'),\n",
              " 26: Piece.from_symbol('P'),\n",
              " 21: Piece.from_symbol('R'),\n",
              " 19: Piece.from_symbol('B'),\n",
              " 14: Piece.from_symbol('K'),\n",
              " 9: Piece.from_symbol('P'),\n",
              " 8: Piece.from_symbol('P')}"
            ]
          },
          "execution_count": 17,
          "metadata": {},
          "output_type": "execute_result"
        }
      ],
      "source": [
        "board.piece_map()"
      ]
    },
    {
      "cell_type": "code",
      "execution_count": 18,
      "id": "b578ca3a",
      "metadata": {
        "colab": {
          "base_uri": "https://localhost:8080/"
        },
        "id": "b578ca3a",
        "outputId": "66c98a85-139a-4e10-9c5c-3c116cff9f54"
      },
      "outputs": [
        {
          "name": "stdout",
          "output_type": "stream",
          "text": [
            "61 r\n",
            "54 k\n",
            "50 p\n",
            "46 b\n",
            "45 p\n",
            "41 p\n",
            "39 p\n",
            "36 r\n",
            "35 P\n",
            "34 p\n",
            "32 p\n",
            "30 P\n",
            "29 R\n",
            "28 P\n",
            "26 P\n",
            "21 R\n",
            "19 B\n",
            "14 K\n",
            "9 P\n",
            "8 P\n"
          ]
        }
      ],
      "source": [
        "for square, piece in board.piece_map().items():\n",
        "    print(square, piece)"
      ]
    },
    {
      "cell_type": "code",
      "execution_count": 19,
      "id": "11fad081",
      "metadata": {
        "id": "11fad081"
      },
      "outputs": [],
      "source": [
        "piece_to_index = {\n",
        "    'P': 0, 'N': 1, 'B': 2, 'R': 3, 'Q': 4, 'K': 5,\n",
        "    'p': 6, 'n': 7, 'b': 8, 'r': 9, 'q': 10, 'k': 11\n",
        "}"
      ]
    },
    {
      "cell_type": "code",
      "execution_count": 20,
      "id": "81d2f23f",
      "metadata": {
        "id": "81d2f23f"
      },
      "outputs": [],
      "source": [
        "matrix = np.zeros((8, 8, 12), dtype=np.int8)\n",
        "for square, piece in board.piece_map().items():\n",
        "    row = 7 - (square // 8)\n",
        "    col = square % 8\n",
        "    matrix[row, col, piece_to_index[piece.symbol()]] = 1"
      ]
    },
    {
      "cell_type": "code",
      "execution_count": 21,
      "id": "0d501734",
      "metadata": {
        "id": "0d501734"
      },
      "outputs": [],
      "source": [
        "def fen_to_features(fen):\n",
        "    piece_to_index = {\n",
        "        'P': 0, 'N': 1, 'B': 2, 'R': 3, 'Q': 4, 'K': 5,\n",
        "        'p': 6, 'n': 7, 'b': 8, 'r': 9, 'q': 10, 'k': 11\n",
        "    }\n",
        "\n",
        "    board = chess.Board(fen)\n",
        "    matrix = np.zeros((8, 8, 12), dtype=np.int8)\n",
        "\n",
        "    for square, piece in board.piece_map().items():\n",
        "        row = 7 - (square // 8)\n",
        "        col = square % 8\n",
        "        matrix[row, col, piece_to_index[piece.symbol()]] = 1\n",
        "\n",
        "    extra_features = []\n",
        "    extra_features.append(1 if board.turn == chess.WHITE else 0)\n",
        "\n",
        "    extra_features.append(1 if board.has_kingside_castling_rights(chess.WHITE) else 0)\n",
        "    extra_features.append(1 if board.has_queenside_castling_rights(chess.WHITE) else 0)\n",
        "    extra_features.append(1 if board.has_kingside_castling_rights(chess.BLACK) else 0)\n",
        "    extra_features.append(1 if board.has_queenside_castling_rights(chess.BLACK) else 0)\n",
        "\n",
        "    en_passant = np.zeros(8, dtype= np.int8)\n",
        "    if board.ep_square is not None:\n",
        "        col = board.ep_square % 8\n",
        "        en_passant[col] = 1\n",
        "\n",
        "    extra_features.append(board.halfmove_clock / 50.0)\n",
        "    extra_features.append(board.fullmove_number / 100.0)\n",
        "\n",
        "    extra_features = np.concatenate([np.array(extra_features, dtype=np.float32), en_passant])\n",
        "    return matrix, extra_features"
      ]
    },
    {
      "cell_type": "code",
      "execution_count": 22,
      "id": "b4b03b0b",
      "metadata": {
        "id": "b4b03b0b"
      },
      "outputs": [],
      "source": [
        "X_board = []\n",
        "X_meta = []\n",
        "\n",
        "for fen in data[\"fen\"]:\n",
        "    board_mat, extra = fen_to_features(fen)\n",
        "    X_board.append(board_mat)\n",
        "    X_meta.append(extra)\n",
        "\n",
        "X_board = np.stack(X_board)\n",
        "X_meta = np.stack(X_meta)"
      ]
    },
    {
      "cell_type": "code",
      "execution_count": 23,
      "id": "bff39968",
      "metadata": {
        "id": "bff39968"
      },
      "outputs": [],
      "source": [
        "def move_to_indices(move_uci):\n",
        "    move = chess.Move.from_uci(move_uci)\n",
        "    return move.from_square, move.to_square"
      ]
    },
    {
      "cell_type": "code",
      "execution_count": 24,
      "id": "5c72f087",
      "metadata": {
        "id": "5c72f087"
      },
      "outputs": [],
      "source": [
        "y_from = np.array([move_to_indices(m)[0] for m in data[\"move\"]])\n",
        "y_to = np.array([move_to_indices(m)[1] for m in data[\"move\"]])"
      ]
    },
    {
      "cell_type": "code",
      "execution_count": null,
      "id": "2d334023",
      "metadata": {
        "colab": {
          "base_uri": "https://localhost:8080/",
          "height": 533
        },
        "id": "2d334023",
        "outputId": "cb6a3ed3-b2e6-42c5-fb2c-97af30ab6ca1"
      },
      "outputs": [
        {
          "data": {
            "text/html": [
              "<pre style=\"white-space:pre;overflow-x:auto;line-height:normal;font-family:Menlo,'DejaVu Sans Mono',consolas,'Courier New',monospace\"><span style=\"font-weight: bold\">Model: \"functional\"</span>\n",
              "</pre>\n"
            ],
            "text/plain": [
              "\u001b[1mModel: \"functional\"\u001b[0m\n"
            ]
          },
          "metadata": {},
          "output_type": "display_data"
        },
        {
          "data": {
            "text/html": [
              "<pre style=\"white-space:pre;overflow-x:auto;line-height:normal;font-family:Menlo,'DejaVu Sans Mono',consolas,'Courier New',monospace\">┏━━━━━━━━━━━━━━━━━━━━━┳━━━━━━━━━━━━━━━━━━━┳━━━━━━━━━━━━┳━━━━━━━━━━━━━━━━━━━┓\n",
              "┃<span style=\"font-weight: bold\"> Layer (type)        </span>┃<span style=\"font-weight: bold\"> Output Shape      </span>┃<span style=\"font-weight: bold\">    Param # </span>┃<span style=\"font-weight: bold\"> Connected to      </span>┃\n",
              "┡━━━━━━━━━━━━━━━━━━━━━╇━━━━━━━━━━━━━━━━━━━╇━━━━━━━━━━━━╇━━━━━━━━━━━━━━━━━━━┩\n",
              "│ input_layer         │ (<span style=\"color: #00d7ff; text-decoration-color: #00d7ff\">None</span>, <span style=\"color: #00af00; text-decoration-color: #00af00\">8</span>, <span style=\"color: #00af00; text-decoration-color: #00af00\">8</span>, <span style=\"color: #00af00; text-decoration-color: #00af00\">12</span>)  │          <span style=\"color: #00af00; text-decoration-color: #00af00\">0</span> │ -                 │\n",
              "│ (<span style=\"color: #0087ff; text-decoration-color: #0087ff\">InputLayer</span>)        │                   │            │                   │\n",
              "├─────────────────────┼───────────────────┼────────────┼───────────────────┤\n",
              "│ conv2d (<span style=\"color: #0087ff; text-decoration-color: #0087ff\">Conv2D</span>)     │ (<span style=\"color: #00d7ff; text-decoration-color: #00d7ff\">None</span>, <span style=\"color: #00af00; text-decoration-color: #00af00\">8</span>, <span style=\"color: #00af00; text-decoration-color: #00af00\">8</span>, <span style=\"color: #00af00; text-decoration-color: #00af00\">64</span>)  │      <span style=\"color: #00af00; text-decoration-color: #00af00\">6,976</span> │ input_layer[<span style=\"color: #00af00; text-decoration-color: #00af00\">0</span>][<span style=\"color: #00af00; text-decoration-color: #00af00\">0</span>] │\n",
              "├─────────────────────┼───────────────────┼────────────┼───────────────────┤\n",
              "│ conv2d_1 (<span style=\"color: #0087ff; text-decoration-color: #0087ff\">Conv2D</span>)   │ (<span style=\"color: #00d7ff; text-decoration-color: #00d7ff\">None</span>, <span style=\"color: #00af00; text-decoration-color: #00af00\">8</span>, <span style=\"color: #00af00; text-decoration-color: #00af00\">8</span>, <span style=\"color: #00af00; text-decoration-color: #00af00\">64</span>)  │     <span style=\"color: #00af00; text-decoration-color: #00af00\">36,928</span> │ conv2d[<span style=\"color: #00af00; text-decoration-color: #00af00\">0</span>][<span style=\"color: #00af00; text-decoration-color: #00af00\">0</span>]      │\n",
              "├─────────────────────┼───────────────────┼────────────┼───────────────────┤\n",
              "│ input_layer_1       │ (<span style=\"color: #00d7ff; text-decoration-color: #00d7ff\">None</span>, <span style=\"color: #00af00; text-decoration-color: #00af00\">15</span>)        │          <span style=\"color: #00af00; text-decoration-color: #00af00\">0</span> │ -                 │\n",
              "│ (<span style=\"color: #0087ff; text-decoration-color: #0087ff\">InputLayer</span>)        │                   │            │                   │\n",
              "├─────────────────────┼───────────────────┼────────────┼───────────────────┤\n",
              "│ flatten (<span style=\"color: #0087ff; text-decoration-color: #0087ff\">Flatten</span>)   │ (<span style=\"color: #00d7ff; text-decoration-color: #00d7ff\">None</span>, <span style=\"color: #00af00; text-decoration-color: #00af00\">4096</span>)      │          <span style=\"color: #00af00; text-decoration-color: #00af00\">0</span> │ conv2d_1[<span style=\"color: #00af00; text-decoration-color: #00af00\">0</span>][<span style=\"color: #00af00; text-decoration-color: #00af00\">0</span>]    │\n",
              "├─────────────────────┼───────────────────┼────────────┼───────────────────┤\n",
              "│ dense (<span style=\"color: #0087ff; text-decoration-color: #0087ff\">Dense</span>)       │ (<span style=\"color: #00d7ff; text-decoration-color: #00d7ff\">None</span>, <span style=\"color: #00af00; text-decoration-color: #00af00\">64</span>)        │      <span style=\"color: #00af00; text-decoration-color: #00af00\">1,024</span> │ input_layer_1[<span style=\"color: #00af00; text-decoration-color: #00af00\">0</span>]… │\n",
              "├─────────────────────┼───────────────────┼────────────┼───────────────────┤\n",
              "│ concatenate         │ (<span style=\"color: #00d7ff; text-decoration-color: #00d7ff\">None</span>, <span style=\"color: #00af00; text-decoration-color: #00af00\">4160</span>)      │          <span style=\"color: #00af00; text-decoration-color: #00af00\">0</span> │ flatten[<span style=\"color: #00af00; text-decoration-color: #00af00\">0</span>][<span style=\"color: #00af00; text-decoration-color: #00af00\">0</span>],    │\n",
              "│ (<span style=\"color: #0087ff; text-decoration-color: #0087ff\">Concatenate</span>)       │                   │            │ dense[<span style=\"color: #00af00; text-decoration-color: #00af00\">0</span>][<span style=\"color: #00af00; text-decoration-color: #00af00\">0</span>]       │\n",
              "├─────────────────────┼───────────────────┼────────────┼───────────────────┤\n",
              "│ dense_1 (<span style=\"color: #0087ff; text-decoration-color: #0087ff\">Dense</span>)     │ (<span style=\"color: #00d7ff; text-decoration-color: #00d7ff\">None</span>, <span style=\"color: #00af00; text-decoration-color: #00af00\">256</span>)       │  <span style=\"color: #00af00; text-decoration-color: #00af00\">1,065,216</span> │ concatenate[<span style=\"color: #00af00; text-decoration-color: #00af00\">0</span>][<span style=\"color: #00af00; text-decoration-color: #00af00\">0</span>] │\n",
              "├─────────────────────┼───────────────────┼────────────┼───────────────────┤\n",
              "│ dropout (<span style=\"color: #0087ff; text-decoration-color: #0087ff\">Dropout</span>)   │ (<span style=\"color: #00d7ff; text-decoration-color: #00d7ff\">None</span>, <span style=\"color: #00af00; text-decoration-color: #00af00\">256</span>)       │          <span style=\"color: #00af00; text-decoration-color: #00af00\">0</span> │ dense_1[<span style=\"color: #00af00; text-decoration-color: #00af00\">0</span>][<span style=\"color: #00af00; text-decoration-color: #00af00\">0</span>]     │\n",
              "├─────────────────────┼───────────────────┼────────────┼───────────────────┤\n",
              "│ from_square (<span style=\"color: #0087ff; text-decoration-color: #0087ff\">Dense</span>) │ (<span style=\"color: #00d7ff; text-decoration-color: #00d7ff\">None</span>, <span style=\"color: #00af00; text-decoration-color: #00af00\">64</span>)        │     <span style=\"color: #00af00; text-decoration-color: #00af00\">16,448</span> │ dropout[<span style=\"color: #00af00; text-decoration-color: #00af00\">0</span>][<span style=\"color: #00af00; text-decoration-color: #00af00\">0</span>]     │\n",
              "├─────────────────────┼───────────────────┼────────────┼───────────────────┤\n",
              "│ to_square (<span style=\"color: #0087ff; text-decoration-color: #0087ff\">Dense</span>)   │ (<span style=\"color: #00d7ff; text-decoration-color: #00d7ff\">None</span>, <span style=\"color: #00af00; text-decoration-color: #00af00\">64</span>)        │     <span style=\"color: #00af00; text-decoration-color: #00af00\">16,448</span> │ dropout[<span style=\"color: #00af00; text-decoration-color: #00af00\">0</span>][<span style=\"color: #00af00; text-decoration-color: #00af00\">0</span>]     │\n",
              "└─────────────────────┴───────────────────┴────────────┴───────────────────┘\n",
              "</pre>\n"
            ],
            "text/plain": [
              "┏━━━━━━━━━━━━━━━━━━━━━┳━━━━━━━━━━━━━━━━━━━┳━━━━━━━━━━━━┳━━━━━━━━━━━━━━━━━━━┓\n",
              "┃\u001b[1m \u001b[0m\u001b[1mLayer (type)       \u001b[0m\u001b[1m \u001b[0m┃\u001b[1m \u001b[0m\u001b[1mOutput Shape     \u001b[0m\u001b[1m \u001b[0m┃\u001b[1m \u001b[0m\u001b[1m   Param #\u001b[0m\u001b[1m \u001b[0m┃\u001b[1m \u001b[0m\u001b[1mConnected to     \u001b[0m\u001b[1m \u001b[0m┃\n",
              "┡━━━━━━━━━━━━━━━━━━━━━╇━━━━━━━━━━━━━━━━━━━╇━━━━━━━━━━━━╇━━━━━━━━━━━━━━━━━━━┩\n",
              "│ input_layer         │ (\u001b[38;5;45mNone\u001b[0m, \u001b[38;5;34m8\u001b[0m, \u001b[38;5;34m8\u001b[0m, \u001b[38;5;34m12\u001b[0m)  │          \u001b[38;5;34m0\u001b[0m │ -                 │\n",
              "│ (\u001b[38;5;33mInputLayer\u001b[0m)        │                   │            │                   │\n",
              "├─────────────────────┼───────────────────┼────────────┼───────────────────┤\n",
              "│ conv2d (\u001b[38;5;33mConv2D\u001b[0m)     │ (\u001b[38;5;45mNone\u001b[0m, \u001b[38;5;34m8\u001b[0m, \u001b[38;5;34m8\u001b[0m, \u001b[38;5;34m64\u001b[0m)  │      \u001b[38;5;34m6,976\u001b[0m │ input_layer[\u001b[38;5;34m0\u001b[0m][\u001b[38;5;34m0\u001b[0m] │\n",
              "├─────────────────────┼───────────────────┼────────────┼───────────────────┤\n",
              "│ conv2d_1 (\u001b[38;5;33mConv2D\u001b[0m)   │ (\u001b[38;5;45mNone\u001b[0m, \u001b[38;5;34m8\u001b[0m, \u001b[38;5;34m8\u001b[0m, \u001b[38;5;34m64\u001b[0m)  │     \u001b[38;5;34m36,928\u001b[0m │ conv2d[\u001b[38;5;34m0\u001b[0m][\u001b[38;5;34m0\u001b[0m]      │\n",
              "├─────────────────────┼───────────────────┼────────────┼───────────────────┤\n",
              "│ input_layer_1       │ (\u001b[38;5;45mNone\u001b[0m, \u001b[38;5;34m15\u001b[0m)        │          \u001b[38;5;34m0\u001b[0m │ -                 │\n",
              "│ (\u001b[38;5;33mInputLayer\u001b[0m)        │                   │            │                   │\n",
              "├─────────────────────┼───────────────────┼────────────┼───────────────────┤\n",
              "│ flatten (\u001b[38;5;33mFlatten\u001b[0m)   │ (\u001b[38;5;45mNone\u001b[0m, \u001b[38;5;34m4096\u001b[0m)      │          \u001b[38;5;34m0\u001b[0m │ conv2d_1[\u001b[38;5;34m0\u001b[0m][\u001b[38;5;34m0\u001b[0m]    │\n",
              "├─────────────────────┼───────────────────┼────────────┼───────────────────┤\n",
              "│ dense (\u001b[38;5;33mDense\u001b[0m)       │ (\u001b[38;5;45mNone\u001b[0m, \u001b[38;5;34m64\u001b[0m)        │      \u001b[38;5;34m1,024\u001b[0m │ input_layer_1[\u001b[38;5;34m0\u001b[0m]… │\n",
              "├─────────────────────┼───────────────────┼────────────┼───────────────────┤\n",
              "│ concatenate         │ (\u001b[38;5;45mNone\u001b[0m, \u001b[38;5;34m4160\u001b[0m)      │          \u001b[38;5;34m0\u001b[0m │ flatten[\u001b[38;5;34m0\u001b[0m][\u001b[38;5;34m0\u001b[0m],    │\n",
              "│ (\u001b[38;5;33mConcatenate\u001b[0m)       │                   │            │ dense[\u001b[38;5;34m0\u001b[0m][\u001b[38;5;34m0\u001b[0m]       │\n",
              "├─────────────────────┼───────────────────┼────────────┼───────────────────┤\n",
              "│ dense_1 (\u001b[38;5;33mDense\u001b[0m)     │ (\u001b[38;5;45mNone\u001b[0m, \u001b[38;5;34m256\u001b[0m)       │  \u001b[38;5;34m1,065,216\u001b[0m │ concatenate[\u001b[38;5;34m0\u001b[0m][\u001b[38;5;34m0\u001b[0m] │\n",
              "├─────────────────────┼───────────────────┼────────────┼───────────────────┤\n",
              "│ dropout (\u001b[38;5;33mDropout\u001b[0m)   │ (\u001b[38;5;45mNone\u001b[0m, \u001b[38;5;34m256\u001b[0m)       │          \u001b[38;5;34m0\u001b[0m │ dense_1[\u001b[38;5;34m0\u001b[0m][\u001b[38;5;34m0\u001b[0m]     │\n",
              "├─────────────────────┼───────────────────┼────────────┼───────────────────┤\n",
              "│ from_square (\u001b[38;5;33mDense\u001b[0m) │ (\u001b[38;5;45mNone\u001b[0m, \u001b[38;5;34m64\u001b[0m)        │     \u001b[38;5;34m16,448\u001b[0m │ dropout[\u001b[38;5;34m0\u001b[0m][\u001b[38;5;34m0\u001b[0m]     │\n",
              "├─────────────────────┼───────────────────┼────────────┼───────────────────┤\n",
              "│ to_square (\u001b[38;5;33mDense\u001b[0m)   │ (\u001b[38;5;45mNone\u001b[0m, \u001b[38;5;34m64\u001b[0m)        │     \u001b[38;5;34m16,448\u001b[0m │ dropout[\u001b[38;5;34m0\u001b[0m][\u001b[38;5;34m0\u001b[0m]     │\n",
              "└─────────────────────┴───────────────────┴────────────┴───────────────────┘\n"
            ]
          },
          "metadata": {},
          "output_type": "display_data"
        },
        {
          "data": {
            "text/html": [
              "<pre style=\"white-space:pre;overflow-x:auto;line-height:normal;font-family:Menlo,'DejaVu Sans Mono',consolas,'Courier New',monospace\"><span style=\"font-weight: bold\"> Total params: </span><span style=\"color: #00af00; text-decoration-color: #00af00\">1,143,040</span> (4.36 MB)\n",
              "</pre>\n"
            ],
            "text/plain": [
              "\u001b[1m Total params: \u001b[0m\u001b[38;5;34m1,143,040\u001b[0m (4.36 MB)\n"
            ]
          },
          "metadata": {},
          "output_type": "display_data"
        },
        {
          "data": {
            "text/html": [
              "<pre style=\"white-space:pre;overflow-x:auto;line-height:normal;font-family:Menlo,'DejaVu Sans Mono',consolas,'Courier New',monospace\"><span style=\"font-weight: bold\"> Trainable params: </span><span style=\"color: #00af00; text-decoration-color: #00af00\">1,143,040</span> (4.36 MB)\n",
              "</pre>\n"
            ],
            "text/plain": [
              "\u001b[1m Trainable params: \u001b[0m\u001b[38;5;34m1,143,040\u001b[0m (4.36 MB)\n"
            ]
          },
          "metadata": {},
          "output_type": "display_data"
        },
        {
          "data": {
            "text/html": [
              "<pre style=\"white-space:pre;overflow-x:auto;line-height:normal;font-family:Menlo,'DejaVu Sans Mono',consolas,'Courier New',monospace\"><span style=\"font-weight: bold\"> Non-trainable params: </span><span style=\"color: #00af00; text-decoration-color: #00af00\">0</span> (0.00 B)\n",
              "</pre>\n"
            ],
            "text/plain": [
              "\u001b[1m Non-trainable params: \u001b[0m\u001b[38;5;34m0\u001b[0m (0.00 B)\n"
            ]
          },
          "metadata": {},
          "output_type": "display_data"
        }
      ],
      "source": [
        "board_input = Input(shape=(8, 8, 12))\n",
        "meta_input = Input(shape=(15, ))\n",
        "x = layers.Conv2D(64, (3, 3), activation='relu', padding='same', kernel_regularizer=tf.keras.regularizers.l2(1e-4))(board_input)\n",
        "x = layers.Conv2D(64, (3, 3), activation='relu', padding='same', kernel_regularizer=tf.keras.regularizers.l2(1e-4))(x)\n",
        "x = layers.Flatten()(x)\n",
        "\n",
        "y = layers.Dense(64, activation='relu')(meta_input)\n",
        "\n",
        "z = layers.concatenate([x, y])\n",
        "z = layers.Dense(256, activation='relu', kernel_regularizer=tf.keras.regularizers.l2(1e-4))(z)\n",
        "z = layers.Dropout(0.5)(z)\n",
        "\n",
        "from_output = layers.Dense(64, activation='softmax', name=\"from_square\")(z)\n",
        "to_output = layers.Dense(64, activation='softmax', name=\"to_square\")(z)\n",
        "\n",
        "model = models.Model(inputs=[board_input, meta_input], outputs=[from_output, to_output])\n",
        "model.compile(\n",
        "    optimizer='adam',\n",
        "    loss=['sparse_categorical_crossentropy', 'sparse_categorical_crossentropy'],\n",
        "    metrics=['accuracy', 'accuracy']\n",
        ")\n",
        "model.summary()"
      ]
    },
    {
      "cell_type": "code",
      "execution_count": 26,
      "id": "8e7eb4cb",
      "metadata": {
        "colab": {
          "base_uri": "https://localhost:8080/"
        },
        "id": "8e7eb4cb",
        "outputId": "0d043ed4-a633-4058-e493-f89e6f9231ab"
      },
      "outputs": [
        {
          "name": "stdout",
          "output_type": "stream",
          "text": [
            "Epoch 1/20\n",
            "\u001b[1m3777/3777\u001b[0m \u001b[32m━━━━━━━━━━━━━━━━━━━━\u001b[0m\u001b[37m\u001b[0m \u001b[1m24s\u001b[0m 5ms/step - from_square_accuracy: 0.3252 - from_square_loss: 2.3415 - loss: 5.7716 - to_square_accuracy: 0.1465 - to_square_loss: 3.4300 - val_from_square_accuracy: 0.4757 - val_from_square_loss: 1.5591 - val_loss: 4.3005 - val_to_square_accuracy: 0.2779 - val_to_square_loss: 2.7415\n",
            "Epoch 2/20\n",
            "\u001b[1m3777/3777\u001b[0m \u001b[32m━━━━━━━━━━━━━━━━━━━━\u001b[0m\u001b[37m\u001b[0m \u001b[1m15s\u001b[0m 4ms/step - from_square_accuracy: 0.4728 - from_square_loss: 1.6134 - loss: 4.3874 - to_square_accuracy: 0.2722 - to_square_loss: 2.7741 - val_from_square_accuracy: 0.4833 - val_from_square_loss: 1.4871 - val_loss: 4.0900 - val_to_square_accuracy: 0.3002 - val_to_square_loss: 2.6029\n",
            "Epoch 3/20\n",
            "\u001b[1m3777/3777\u001b[0m \u001b[32m━━━━━━━━━━━━━━━━━━━━\u001b[0m\u001b[37m\u001b[0m \u001b[1m15s\u001b[0m 4ms/step - from_square_accuracy: 0.5068 - from_square_loss: 1.4806 - loss: 4.0658 - to_square_accuracy: 0.3111 - to_square_loss: 2.5851 - val_from_square_accuracy: 0.4964 - val_from_square_loss: 1.4644 - val_loss: 3.9903 - val_to_square_accuracy: 0.3147 - val_to_square_loss: 2.5261\n",
            "Epoch 4/20\n",
            "\u001b[1m3777/3777\u001b[0m \u001b[32m━━━━━━━━━━━━━━━━━━━━\u001b[0m\u001b[37m\u001b[0m \u001b[1m15s\u001b[0m 4ms/step - from_square_accuracy: 0.5281 - from_square_loss: 1.3949 - loss: 3.8541 - to_square_accuracy: 0.3355 - to_square_loss: 2.4592 - val_from_square_accuracy: 0.5040 - val_from_square_loss: 1.4672 - val_loss: 3.9692 - val_to_square_accuracy: 0.3180 - val_to_square_loss: 2.5023\n",
            "Epoch 5/20\n",
            "\u001b[1m3777/3777\u001b[0m \u001b[32m━━━━━━━━━━━━━━━━━━━━\u001b[0m\u001b[37m\u001b[0m \u001b[1m15s\u001b[0m 4ms/step - from_square_accuracy: 0.5521 - from_square_loss: 1.3221 - loss: 3.6857 - to_square_accuracy: 0.3525 - to_square_loss: 2.3636 - val_from_square_accuracy: 0.5017 - val_from_square_loss: 1.4700 - val_loss: 3.9629 - val_to_square_accuracy: 0.3231 - val_to_square_loss: 2.4932\n",
            "Epoch 6/20\n",
            "\u001b[1m3777/3777\u001b[0m \u001b[32m━━━━━━━━━━━━━━━━━━━━\u001b[0m\u001b[37m\u001b[0m \u001b[1m16s\u001b[0m 4ms/step - from_square_accuracy: 0.5685 - from_square_loss: 1.2640 - loss: 3.5446 - to_square_accuracy: 0.3714 - to_square_loss: 2.2806 - val_from_square_accuracy: 0.4973 - val_from_square_loss: 1.4960 - val_loss: 4.0035 - val_to_square_accuracy: 0.3202 - val_to_square_loss: 2.5077\n",
            "Epoch 7/20\n",
            "\u001b[1m3777/3777\u001b[0m \u001b[32m━━━━━━━━━━━━━━━━━━━━\u001b[0m\u001b[37m\u001b[0m \u001b[1m15s\u001b[0m 4ms/step - from_square_accuracy: 0.5849 - from_square_loss: 1.2085 - loss: 3.4212 - to_square_accuracy: 0.3835 - to_square_loss: 2.2127 - val_from_square_accuracy: 0.5019 - val_from_square_loss: 1.4897 - val_loss: 3.9939 - val_to_square_accuracy: 0.3253 - val_to_square_loss: 2.5043\n",
            "Epoch 8/20\n",
            "\u001b[1m3777/3777\u001b[0m \u001b[32m━━━━━━━━━━━━━━━━━━━━\u001b[0m\u001b[37m\u001b[0m \u001b[1m16s\u001b[0m 4ms/step - from_square_accuracy: 0.5982 - from_square_loss: 1.1673 - loss: 3.3124 - to_square_accuracy: 0.3994 - to_square_loss: 2.1451 - val_from_square_accuracy: 0.5012 - val_from_square_loss: 1.5340 - val_loss: 4.0603 - val_to_square_accuracy: 0.3246 - val_to_square_loss: 2.5264\n",
            "Epoch 9/20\n",
            "\u001b[1m3777/3777\u001b[0m \u001b[32m━━━━━━━━━━━━━━━━━━━━\u001b[0m\u001b[37m\u001b[0m \u001b[1m17s\u001b[0m 4ms/step - from_square_accuracy: 0.6107 - from_square_loss: 1.1273 - loss: 3.2133 - to_square_accuracy: 0.4119 - to_square_loss: 2.0860 - val_from_square_accuracy: 0.5015 - val_from_square_loss: 1.5442 - val_loss: 4.1010 - val_to_square_accuracy: 0.3230 - val_to_square_loss: 2.5572\n",
            "Epoch 10/20\n",
            "\u001b[1m3777/3777\u001b[0m \u001b[32m━━━━━━━━━━━━━━━━━━━━\u001b[0m\u001b[37m\u001b[0m \u001b[1m16s\u001b[0m 4ms/step - from_square_accuracy: 0.6221 - from_square_loss: 1.0938 - loss: 3.1325 - to_square_accuracy: 0.4215 - to_square_loss: 2.0387 - val_from_square_accuracy: 0.4961 - val_from_square_loss: 1.5877 - val_loss: 4.1452 - val_to_square_accuracy: 0.3252 - val_to_square_loss: 2.5578\n",
            "Epoch 11/20\n",
            "\u001b[1m3777/3777\u001b[0m \u001b[32m━━━━━━━━━━━━━━━━━━━━\u001b[0m\u001b[37m\u001b[0m \u001b[1m16s\u001b[0m 4ms/step - from_square_accuracy: 0.6309 - from_square_loss: 1.0632 - loss: 3.0487 - to_square_accuracy: 0.4330 - to_square_loss: 1.9855 - val_from_square_accuracy: 0.4940 - val_from_square_loss: 1.6242 - val_loss: 4.2213 - val_to_square_accuracy: 0.3249 - val_to_square_loss: 2.5974\n",
            "Epoch 12/20\n",
            "\u001b[1m3777/3777\u001b[0m \u001b[32m━━━━━━━━━━━━━━━━━━━━\u001b[0m\u001b[37m\u001b[0m \u001b[1m20s\u001b[0m 4ms/step - from_square_accuracy: 0.6400 - from_square_loss: 1.0367 - loss: 2.9868 - to_square_accuracy: 0.4416 - to_square_loss: 1.9501 - val_from_square_accuracy: 0.4983 - val_from_square_loss: 1.6290 - val_loss: 4.2365 - val_to_square_accuracy: 0.3257 - val_to_square_loss: 2.6077\n",
            "Epoch 13/20\n",
            "\u001b[1m3777/3777\u001b[0m \u001b[32m━━━━━━━━━━━━━━━━━━━━\u001b[0m\u001b[37m\u001b[0m \u001b[1m15s\u001b[0m 4ms/step - from_square_accuracy: 0.6500 - from_square_loss: 1.0048 - loss: 2.9105 - to_square_accuracy: 0.4498 - to_square_loss: 1.9057 - val_from_square_accuracy: 0.4952 - val_from_square_loss: 1.6606 - val_loss: 4.3046 - val_to_square_accuracy: 0.3209 - val_to_square_loss: 2.6442\n",
            "Epoch 14/20\n",
            "\u001b[1m3777/3777\u001b[0m \u001b[32m━━━━━━━━━━━━━━━━━━━━\u001b[0m\u001b[37m\u001b[0m \u001b[1m15s\u001b[0m 4ms/step - from_square_accuracy: 0.6542 - from_square_loss: 0.9915 - loss: 2.8732 - to_square_accuracy: 0.4561 - to_square_loss: 1.8817 - val_from_square_accuracy: 0.4966 - val_from_square_loss: 1.7027 - val_loss: 4.3626 - val_to_square_accuracy: 0.3224 - val_to_square_loss: 2.6600\n",
            "Epoch 15/20\n",
            "\u001b[1m3777/3777\u001b[0m \u001b[32m━━━━━━━━━━━━━━━━━━━━\u001b[0m\u001b[37m\u001b[0m \u001b[1m15s\u001b[0m 4ms/step - from_square_accuracy: 0.6624 - from_square_loss: 0.9636 - loss: 2.8022 - to_square_accuracy: 0.4665 - to_square_loss: 1.8386 - val_from_square_accuracy: 0.4933 - val_from_square_loss: 1.7362 - val_loss: 4.4451 - val_to_square_accuracy: 0.3184 - val_to_square_loss: 2.7089\n",
            "Epoch 16/20\n",
            "\u001b[1m3777/3777\u001b[0m \u001b[32m━━━━━━━━━━━━━━━━━━━━\u001b[0m\u001b[37m\u001b[0m \u001b[1m15s\u001b[0m 4ms/step - from_square_accuracy: 0.6659 - from_square_loss: 0.9509 - loss: 2.7714 - to_square_accuracy: 0.4698 - to_square_loss: 1.8205 - val_from_square_accuracy: 0.4947 - val_from_square_loss: 1.7861 - val_loss: 4.5136 - val_to_square_accuracy: 0.3213 - val_to_square_loss: 2.7278\n",
            "Epoch 17/20\n",
            "\u001b[1m3777/3777\u001b[0m \u001b[32m━━━━━━━━━━━━━━━━━━━━\u001b[0m\u001b[37m\u001b[0m \u001b[1m15s\u001b[0m 4ms/step - from_square_accuracy: 0.6717 - from_square_loss: 0.9352 - loss: 2.7173 - to_square_accuracy: 0.4780 - to_square_loss: 1.7821 - val_from_square_accuracy: 0.4954 - val_from_square_loss: 1.7995 - val_loss: 4.5676 - val_to_square_accuracy: 0.3168 - val_to_square_loss: 2.7683\n",
            "Epoch 18/20\n",
            "\u001b[1m3777/3777\u001b[0m \u001b[32m━━━━━━━━━━━━━━━━━━━━\u001b[0m\u001b[37m\u001b[0m \u001b[1m15s\u001b[0m 4ms/step - from_square_accuracy: 0.6791 - from_square_loss: 0.9172 - loss: 2.6672 - to_square_accuracy: 0.4868 - to_square_loss: 1.7500 - val_from_square_accuracy: 0.4896 - val_from_square_loss: 1.8287 - val_loss: 4.6059 - val_to_square_accuracy: 0.3171 - val_to_square_loss: 2.7773\n",
            "Epoch 19/20\n",
            "\u001b[1m3777/3777\u001b[0m \u001b[32m━━━━━━━━━━━━━━━━━━━━\u001b[0m\u001b[37m\u001b[0m \u001b[1m15s\u001b[0m 4ms/step - from_square_accuracy: 0.6827 - from_square_loss: 0.9039 - loss: 2.6325 - to_square_accuracy: 0.4906 - to_square_loss: 1.7286 - val_from_square_accuracy: 0.4927 - val_from_square_loss: 1.8743 - val_loss: 4.7069 - val_to_square_accuracy: 0.3171 - val_to_square_loss: 2.8331\n",
            "Epoch 20/20\n",
            "\u001b[1m3777/3777\u001b[0m \u001b[32m━━━━━━━━━━━━━━━━━━━━\u001b[0m\u001b[37m\u001b[0m \u001b[1m16s\u001b[0m 4ms/step - from_square_accuracy: 0.6866 - from_square_loss: 0.8888 - loss: 2.5948 - to_square_accuracy: 0.4961 - to_square_loss: 1.7060 - val_from_square_accuracy: 0.4877 - val_from_square_loss: 1.9188 - val_loss: 4.7756 - val_to_square_accuracy: 0.3165 - val_to_square_loss: 2.8570\n"
          ]
        }
      ],
      "source": [
        "history = model.fit(\n",
        "    [X_board, X_meta],\n",
        "    [y_from, y_to],\n",
        "    validation_split=0.1,\n",
        "    batch_size=64,\n",
        "    epochs=20,\n",
        "    verbose=1\n",
        ")\n"
      ]
    },
    {
      "cell_type": "code",
      "execution_count": 28,
      "id": "59dc9b88",
      "metadata": {
        "id": "59dc9b88"
      },
      "outputs": [],
      "source": [
        "model.save(\"chess_move_model.keras\")\n",
        "model.save_weights(\"chess_move.weights.h5\")"
      ]
    }
  ],
  "metadata": {
    "colab": {
      "provenance": []
    },
    "kernelspec": {
      "display_name": "venv",
      "language": "python",
      "name": "python3"
    },
    "language_info": {
      "codemirror_mode": {
        "name": "ipython",
        "version": 3
      },
      "file_extension": ".py",
      "mimetype": "text/x-python",
      "name": "python",
      "nbconvert_exporter": "python",
      "pygments_lexer": "ipython3",
      "version": "3.12.1"
    }
  },
  "nbformat": 4,
  "nbformat_minor": 5
}
